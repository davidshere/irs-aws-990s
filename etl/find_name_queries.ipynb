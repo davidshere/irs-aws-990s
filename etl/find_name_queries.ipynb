{
 "cells": [
  {
   "cell_type": "code",
   "execution_count": null,
   "metadata": {
    "collapsed": true
   },
   "outputs": [],
   "source": [
    "import pandas as pd"
   ]
  },
  {
   "cell_type": "code",
   "execution_count": null,
   "metadata": {
    "collapsed": false
   },
   "outputs": [],
   "source": [
    "df = pd.read_csv('schema_map.csv', sep='|', names=['form_version_id', 'path'])\n",
    "df['element_name'] = df.path.str.split('.').apply(lambda x: x[-1])\n",
    "\n",
    "df.head()"
   ]
  },
  {
   "cell_type": "code",
   "execution_count": null,
   "metadata": {
    "collapsed": false,
    "scrolled": true
   },
   "outputs": [],
   "source": [
    "df['has_name'] = df.element_name.str.lower().str.contains('name')\n",
    "df['has_business'] = df.element_name.str.lower().str.contains('business')\n",
    "\n",
    "names = df[(df.has_name) & (~df.has_business)]\n",
    "# fvi is form_version_id\n",
    "frequency_of_fvi = names.groupby('path')['element_name'].count()\n",
    "frequency_of_fvi.sort_values(inplace=True, ascending=False)\n",
    "frequency_of_fvi"
   ]
  },
  {
   "cell_type": "code",
   "execution_count": null,
   "metadata": {
    "collapsed": false
   },
   "outputs": [],
   "source": [
    "frequency_of_fvi.to_csv('paths.csv')"
   ]
  },
  {
   "cell_type": "code",
   "execution_count": null,
   "metadata": {
    "collapsed": true
   },
   "outputs": [],
   "source": []
  }
 ],
 "metadata": {
  "kernelspec": {
   "display_name": "Python 3",
   "language": "python",
   "name": "python3"
  },
  "language_info": {
   "codemirror_mode": {
    "name": "ipython",
    "version": 3
   },
   "file_extension": ".py",
   "mimetype": "text/x-python",
   "name": "python",
   "nbconvert_exporter": "python",
   "pygments_lexer": "ipython3",
   "version": "3.5.0"
  }
 },
 "nbformat": 4,
 "nbformat_minor": 2
}
