{
 "cells": [
  {
   "cell_type": "code",
   "execution_count": null,
   "metadata": {
    "collapsed": true
   },
   "outputs": [],
   "source": [
    "\"\"\"\n",
    "We've got a mapreduce job that parses through XML files to find every \n",
    "unique combination of tags. We've also got some scripts to grab the \n",
    "results from S3 and write it to s3 or a csv. \n",
    "\n",
    "We need to look through these paths to find the queries that we\n",
    "care about. For this first bit of scratch code, we'll look for paths\n",
    "that include `name` but exclude `business`.\n",
    "\n",
    "The output of this process will be a .csv file \n",
    "\"\"\"\n",
    "import pandas as pd"
   ]
  },
  {
   "cell_type": "code",
   "execution_count": null,
   "metadata": {
    "collapsed": false
   },
   "outputs": [],
   "source": [
    "df = pd.read_csv('schema_map.csv', sep='|', names=['form_version_id', 'path'])\n",
    "df['element_name'] = df.path.str.split('.').apply(lambda x: x[-1])\n",
    "\n",
    "df.head()"
   ]
  },
  {
   "cell_type": "code",
   "execution_count": null,
   "metadata": {
    "collapsed": false,
    "scrolled": true
   },
   "outputs": [],
   "source": [
    "df['has_name'] = df.element_name.str.lower().str.contains('name')\n",
    "df['has_business'] = df.element_name.str.lower().str.contains('business')\n",
    "\n",
    "names = df[(df.has_name) & (~df.has_business)]\n",
    "# fvi is form_version_id\n",
    "frequency_of_fvi = names.groupby('path')['element_name'].count()"
   ]
  },
  {
   "cell_type": "code",
   "execution_count": null,
   "metadata": {
    "collapsed": false
   },
   "outputs": [],
   "source": [
    "names.set_index('path', inplace=True, drop=False)\n",
    "names = names.assign(frequency=frequency_of_fvi)\n",
    "names.sort_values(by='frequency', ascending=False)"
   ]
  },
  {
   "cell_type": "code",
   "execution_count": null,
   "metadata": {
    "collapsed": false
   },
   "outputs": [],
   "source": [
    "names.to_csv('paths.csv', index=False)"
   ]
  },
  {
   "cell_type": "code",
   "execution_count": null,
   "metadata": {
    "collapsed": true
   },
   "outputs": [],
   "source": []
  }
 ],
 "metadata": {
  "kernelspec": {
   "display_name": "Python 3",
   "language": "python",
   "name": "python3"
  },
  "language_info": {
   "codemirror_mode": {
    "name": "ipython",
    "version": 3
   },
   "file_extension": ".py",
   "mimetype": "text/x-python",
   "name": "python",
   "nbconvert_exporter": "python",
   "pygments_lexer": "ipython3",
   "version": "3.5.0"
  }
 },
 "nbformat": 4,
 "nbformat_minor": 2
}
